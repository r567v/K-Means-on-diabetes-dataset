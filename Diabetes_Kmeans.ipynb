{
 "cells": [
  {
   "cell_type": "code",
   "execution_count": 2,
   "id": "d3c72c9f",
   "metadata": {},
   "outputs": [],
   "source": [
    "import matplotlib.pyplot as plt\n",
    "import numpy as np\n",
    "from scipy.cluster.vq import whiten, kmeans, vq"
   ]
  },
  {
   "cell_type": "code",
   "execution_count": 9,
   "id": "dda70743",
   "metadata": {},
   "outputs": [],
   "source": [
    "dataset = np.loadtxt(\"C:/Users/RahulV/Desktop/Python/ML/diabetes-train.csv\",delimiter=\",\")"
   ]
  },
  {
   "cell_type": "code",
   "execution_count": 10,
   "id": "9a8974a3",
   "metadata": {},
   "outputs": [],
   "source": [
    "dataset = dataset[:, 0:8]"
   ]
  },
  {
   "cell_type": "code",
   "execution_count": 11,
   "id": "97ce85e8",
   "metadata": {},
   "outputs": [
    {
     "name": "stdout",
     "output_type": "stream",
     "text": [
      "Data :\n",
      " [[  6.    148.     72.    ...  33.6     0.627  50.   ]\n",
      " [  1.     85.     66.    ...  26.6     0.351  31.   ]\n",
      " [  8.    183.     64.    ...  23.3     0.672  32.   ]\n",
      " ...\n",
      " [  1.    107.     72.    ...  30.8     0.821  24.   ]\n",
      " [  0.    105.     68.    ...  20.      0.236  22.   ]\n",
      " [  1.    109.     60.    ...  25.4     0.947  21.   ]] \n",
      "\n"
     ]
    }
   ],
   "source": [
    "print(\"Data :\\n\", dataset, \"\\n\")"
   ]
  },
  {
   "cell_type": "code",
   "execution_count": 12,
   "id": "68c68ba0",
   "metadata": {},
   "outputs": [],
   "source": [
    "dataset = whiten(dataset)"
   ]
  },
  {
   "cell_type": "code",
   "execution_count": 13,
   "id": "ee6cbe88",
   "metadata": {},
   "outputs": [
    {
     "name": "stdout",
     "output_type": "stream",
     "text": [
      "Code-book :\n",
      " [[2.08458547 4.19145612 3.963085   1.06521349 0.70160633 4.11905738\n",
      "  1.41231528 3.94755308]\n",
      " [0.64882768 3.40245381 3.36094848 1.42359246 0.640627   3.84457254\n",
      "  1.38822542 2.32243822]] \n",
      "\n",
      "Clusters :\n",
      " [0 1 0 1 1 1 1 1 0 0 1 0 0 0 0 1 1 0 1 1 1 0 0 0 0 0 0 1 0 0 0 1 1 1 0 1 0\n",
      " 0 1 0 1 0 0 0 0 1 1 1 1 1 1 1 1 0 0 1 0 1 0 1 1 0 1 1 0 1 1 0 1 1 1 1 0 1\n",
      " 1 1 0 1 1 1 1 1 0 1 0 1 0 1 0 1 1 1 0 0 1 0 1 1 1 1 1 1 1 1 1 1 1 1 1 1 1\n",
      " 0 1 1 0 0 0 1 1 1 1 1 1 0 1 1 1 1 1 0 0 0 1 0 1 1 1 1 1 1 0 0 1 0 1 1 0 1\n",
      " 0 1 1 1 0 1 0 0 1 1 1 0 0 0 1 1 1 0 1 1 1 1 0 1 1 1 1 0 0 1 0 0 1 1 1 1 0\n",
      " 0 0 1 1 1 1 0 0 0 0 0 1 1 1 1 1 1 1 1 0 1 0 0 1 0 1 1 0 1 0 0 1 1 1 0 1 0\n",
      " 1 0 1 1 1 1 0 1 1 0 1 1 1 0 0 1 0 1 1 1 1 1 1 0 0 1 0 1 0 1 1 1 0 1 1 1 1\n",
      " 0 0 1 1 0 1 0 1 1 1 1 0 1 0 1 0 1 1 1 0 1 1 0 0 0 0 0 0 1 1 1 1 1 1 1 0 1\n",
      " 1 1 0 0 1 1 1 0 0 1 0 1 1 1 1 1 1 1 0 1 1 0 1 0 1 1 1 0 1 1 1 0 1 1 0 1 1\n",
      " 0 1 1 1 0 0 0 1 1 1 0 0 0 1 1 1 1 1 1 1 1 1 0 1 0 0 1 0 0 0 0 1 1 1 1 1 0\n",
      " 1 1 1 1 1 0 1 1 0 1 1 1 1] \n",
      "\n"
     ]
    }
   ],
   "source": [
    "centroids, mean_dist = kmeans(dataset, 2)\n",
    "print(\"Code-book :\\n\", centroids, \"\\n\")\n",
    "  \n",
    "clusters, dist = vq(dataset, centroids)\n",
    "print(\"Clusters :\\n\", clusters, \"\\n\")"
   ]
  },
  {
   "cell_type": "code",
   "execution_count": 14,
   "id": "74b76040",
   "metadata": {},
   "outputs": [
    {
     "name": "stdout",
     "output_type": "stream",
     "text": [
      "139\n"
     ]
    }
   ],
   "source": [
    "non_diab = list(clusters).count(0)\n",
    "print(non_diab)"
   ]
  },
  {
   "cell_type": "code",
   "execution_count": 15,
   "id": "978396da",
   "metadata": {},
   "outputs": [
    {
     "name": "stdout",
     "output_type": "stream",
     "text": [
      "244\n"
     ]
    }
   ],
   "source": [
    "diab = list(clusters).count(1)\n",
    "print(diab)"
   ]
  },
  {
   "cell_type": "code",
   "execution_count": 16,
   "id": "240d4035",
   "metadata": {},
   "outputs": [],
   "source": [
    "x_axis = []\n",
    "x_axis.append(diab)\n",
    "x_axis.append(non_diab)"
   ]
  },
  {
   "cell_type": "code",
   "execution_count": 17,
   "id": "adfbae91",
   "metadata": {},
   "outputs": [
    {
     "name": "stdout",
     "output_type": "stream",
     "text": [
      "No.of.diabetic patients : 244\n",
      "No.of.non-diabetic patients : 139\n"
     ]
    },
    {
     "data": {
      "image/png": "[encoded data removed]",
      "text/plain": [
       "<Figure size 432x288 with 1 Axes>"
      ]
     },
     "metadata": {},
     "output_type": "display_data"
    }
   ],
   "source": [
    "colors = ['green', 'orange']\n",
    "  \n",
    "print(\"No.of.diabetic patients : \" + str(x_axis[0]) +\n",
    "      \"\\nNo.of.non-diabetic patients : \" + str(x_axis[1]))\n",
    "  \n",
    "y = ['diabetic', 'non-diabetic']\n",
    "  \n",
    "plt.pie(x_axis, labels=y, colors=colors, shadow='true')\n",
    "plt.show()"
   ]
  },
  {
   "cell_type": "code",
   "execution_count": null,
   "id": "ded00299",
   "metadata": {},
   "outputs": [],
   "source": []
  }
 ],
 "metadata": {
  "kernelspec": {
   "display_name": "Python 3",
   "language": "python",
   "name": "python3"
  },
  "language_info": {
   "codemirror_mode": {
    "name": "ipython",
    "version": 3
   },
   "file_extension": ".py",
   "mimetype": "text/x-python",
   "name": "python",
   "nbconvert_exporter": "python",
   "pygments_lexer": "ipython3",
   "version": "3.8.8"
  }
 },
 "nbformat": 4,
 "nbformat_minor": 5
}
